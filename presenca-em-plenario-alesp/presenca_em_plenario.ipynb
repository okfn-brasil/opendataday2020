{
 "cells": [
  {
   "cell_type": "code",
   "execution_count": 48,
   "metadata": {},
   "outputs": [],
   "source": [
    "from bs4 import BeautifulSoup\n",
    "import requests\n",
    "import subprocess\n",
    "import pandas as pd"
   ]
  },
  {
   "cell_type": "markdown",
   "metadata": {},
   "source": [
    "# Get list"
   ]
  },
  {
   "cell_type": "code",
   "execution_count": 49,
   "metadata": {},
   "outputs": [],
   "source": [
    "url_alesp = 'https://www.al.sp.gov.br/sigp-portal/default.xhtml'"
   ]
  },
  {
   "cell_type": "code",
   "execution_count": 50,
   "metadata": {},
   "outputs": [],
   "source": [
    "search = requests.get(url_alesp)\n",
    "soup = BeautifulSoup(search.content, 'html.parser')"
   ]
  },
  {
   "cell_type": "code",
   "execution_count": 51,
   "metadata": {},
   "outputs": [],
   "source": [
    "id_name = {}\n",
    "\n",
    "for option in soup.find_all('option'):\n",
    "    id_name[option['value']] = option.text"
   ]
  },
  {
   "cell_type": "code",
   "execution_count": 52,
   "metadata": {},
   "outputs": [],
   "source": [
    "id_name\n",
    "del id_name['']"
   ]
  },
  {
   "cell_type": "code",
   "execution_count": 53,
   "metadata": {},
   "outputs": [],
   "source": [
    "id_name_final = {}\n",
    "    \n",
    "date_list = []\n",
    "\n",
    "for key, value in id_name.items():\n",
    "    try:\n",
    "        key = int(key)\n",
    "        id_name_final[key] = value\n",
    "    except:\n",
    "        date_list.append(key)"
   ]
  },
  {
   "cell_type": "code",
   "execution_count": null,
   "metadata": {},
   "outputs": [
    {
     "data": {
      "text/plain": [
       "{1137: 'Adalberto Freitas',\n",
       " 1138: 'Adriana Borgo',\n",
       " 1139: 'Agente Federal Danilo Balas',\n",
       " 1185: 'Alessandra Monteiro ',\n",
       " 1140: 'Alex de Madureira',\n",
       " 496: 'Alexandre Pereira',\n",
       " 1178: 'Altair Moraes',\n",
       " 363: 'Analice Fernandes',\n",
       " 429: 'André do Prado',\n",
       " 1177: 'Aprigio',\n",
       " 1176: 'Arthur do Val',\n",
       " 1175: 'Ataide Teruel',\n",
       " 124: 'Barros Munhoz',\n",
       " 367: 'Beth Sahão',\n",
       " 1174: 'Bruno Ganem',\n",
       " 492: 'Caio França',\n",
       " 153: 'Campos Machado',\n",
       " 1173: 'Carla Morando',\n",
       " 431: 'Carlão Pignatari',\n",
       " 433: 'Carlos Cezar',\n",
       " 417: 'Carlos Giannazi',\n",
       " 1172: 'Castello Branco',\n",
       " 435: 'Cauê Macris',\n",
       " 1171: 'Cezar',\n",
       " 141: 'Conte Lopes',\n",
       " 1170: 'Coronel Nishikawa',\n",
       " 469: 'Coronel Telhada',\n",
       " 1169: 'Daniel José',\n",
       " 1168: 'Daniel Soares',\n",
       " 1167: 'Delegada Graciela',\n",
       " 1166: 'Delegado Bruno Lima',\n",
       " 493: 'Delegado Olim',\n",
       " 1183: 'Dirceu Dalben',\n",
       " 1165: 'Douglas Garcia',\n",
       " 1164: 'Dr. Jorge Do Carmo',\n",
       " 1179: 'Dra. Damaris Moura',\n",
       " 386: 'Ed Thomas',\n",
       " 228: 'Edmir Chedid',\n",
       " 254: 'Edna Macedo',\n",
       " 327: 'Emidio de Souza',\n",
       " 372: 'Enio Tatto',\n",
       " 1163: 'Erica Malunguinho',\n",
       " 239: 'Estevam Galvão',\n",
       " 488: 'Fernando Cury',\n",
       " 1162: \"Frederico d'Avila\",\n",
       " 1161: 'Gil Diniz',\n",
       " 382: 'Gilmaci Santos',\n",
       " 1160: 'Heni Ozi Cukier',\n",
       " 1159: 'Isa Penna',\n",
       " 442: 'Itamar Borges',\n",
       " 1180: 'Janaina Paschoal',\n",
       " 299: 'Jorge Caruso',\n",
       " 484: 'Jorge Wilson Xerife do Consumidor',\n",
       " 483: 'José Américo',\n",
       " 445: 'Leci Brandão',\n",
       " 200: 'Léo Oliveira',\n",
       " 1158: 'Leticia Aguiar',\n",
       " 481: 'Luiz Fernando T. Ferreira',\n",
       " 1181: 'Major Mauro',\n",
       " 1157: 'Major Mecca',\n",
       " 477: 'Márcia Lia',\n",
       " 1156: 'Marcio da Farmácia',\n",
       " 1155: 'Marcio Nakashima',\n",
       " 479: 'Marcos Damasio',\n",
       " 403: 'Marcos Zerbini',\n",
       " 347: 'Maria Lúcia Amary',\n",
       " 1154: 'Marina Helou',\n",
       " 480: 'Marta Costa',\n",
       " 75: 'Mauro Bragato',\n",
       " 415: 'Milton Leite Filho',\n",
       " 1153: 'Monica da Bancada Ativista',\n",
       " 475: 'Paulo Correa Jr',\n",
       " 1152: 'Paulo Fiorilo',\n",
       " 1151: 'Professor Kenny',\n",
       " 1150: 'Professora Bebel',\n",
       " 1149: 'Rafa Zimbaldi',\n",
       " 280: 'Rafael Silva',\n",
       " 402: 'Reinaldo Alguz',\n",
       " 474: 'Ricardo Madalena',\n",
       " 1148: 'Ricardo Mellão',\n",
       " 203: 'Roberto Engler',\n",
       " 314: 'Roberto Morais',\n",
       " 1147: 'Rodrigo Gambale',\n",
       " 451: 'Rodrigo Moraes',\n",
       " 339: 'Rogério Nogueira',\n",
       " 196: 'Roque Barbiere',\n",
       " 1146: 'Sargento Neri',\n",
       " 452: 'Sebastião Santos',\n",
       " 1145: 'Sergio Victor',\n",
       " 1144: 'Tenente Coimbra',\n",
       " 1143: 'Tenente Nascimento',\n",
       " 472: 'Teonilio Barba',\n",
       " 1142: 'Thiago Auricchio',\n",
       " 1141: 'Valeria Bolsonaro',\n",
       " 362: 'Vinícius Camarinha',\n",
       " 471: 'Wellington Moura'}"
      ]
     },
     "execution_count": 54,
     "metadata": {},
     "output_type": "execute_result"
    }
   ],
   "source": [
    "id_name_final"
   ]
  },
  {
   "cell_type": "code",
   "execution_count": null,
   "metadata": {},
   "outputs": [],
   "source": [
    "def get_data(name_id, year_month):\n",
    "\n",
    "    headers = {\n",
    "        'Connection': 'keep-alive',\n",
    "        'Cache-Control': 'max-age=0',\n",
    "        'Origin': 'https://www.al.sp.gov.br',\n",
    "        'Upgrade-Insecure-Requests': '1',\n",
    "        'DNT': '1',\n",
    "        'Content-Type': 'application/x-www-form-urlencoded',\n",
    "        'Cookie': 'JSESSIONID=DADA756F83E36702D14EE6374783FFAF; BNES_JSESSIONID=32aUEBofyGSws/W0V3Il1uTuT88ErNcrTKSZwN7GzvZQeBw/0PIEhyGZ6TkKbhLV472YPNlkLn5mQBgGCfifnGgorgF7G+p+'\n",
    "    }\n",
    "\n",
    "    data = {\n",
    "        'formFiltros': 'formFiltros',\n",
    "        'formFiltros:listaDeputados': name_id,\n",
    "        'formFiltros:mesAnoSessao': year_month,\n",
    "        'formFiltros:j_idt17': 'Filtrar',\n",
    "        'javax.faces.ViewState': '2704732828298455370:8076758869967991483'\n",
    "    }\n",
    "\n",
    "    result = requests.post('https://www.al.sp.gov.br/sigp-portal/default.xhtml', \n",
    "                           headers=headers, \n",
    "                           data=data)\n",
    "\n",
    "    result_soup = BeautifulSoup(result.content, 'html.parser')\n",
    "    table_content = result_soup.find_all('td', {'rowspan' : '3'})\n",
    "    attendance_list = []\n",
    "\n",
    "    for a in table_content:\n",
    "        attendance_list.append(a.text)\n",
    "            \n",
    "    df = pd.DataFrame(attendance_list, columns=['presenca_raw'])\n",
    "    df['nome_id'] = name_id\n",
    "    df['mes_ano'] = year_month\n",
    "    \n",
    "    return df"
   ]
  },
  {
   "cell_type": "markdown",
   "metadata": {},
   "source": [
    "# Test for one"
   ]
  },
  {
   "cell_type": "code",
   "execution_count": null,
   "metadata": {},
   "outputs": [
    {
     "data": {
      "text/html": [
       "<div>\n",
       "<style scoped>\n",
       "    .dataframe tbody tr th:only-of-type {\n",
       "        vertical-align: middle;\n",
       "    }\n",
       "\n",
       "    .dataframe tbody tr th {\n",
       "        vertical-align: top;\n",
       "    }\n",
       "\n",
       "    .dataframe thead th {\n",
       "        text-align: right;\n",
       "    }\n",
       "</style>\n",
       "<table border=\"1\" class=\"dataframe\">\n",
       "  <thead>\n",
       "    <tr style=\"text-align: right;\">\n",
       "      <th></th>\n",
       "      <th>presenca_raw</th>\n",
       "      <th>nome_id</th>\n",
       "      <th>mes_ano</th>\n",
       "    </tr>\n",
       "  </thead>\n",
       "  <tbody>\n",
       "    <tr>\n",
       "      <th>0</th>\n",
       "      <td>\\n\\n\\n02\\n\\n\\n\\nO\\n\\n\\n\\nCQR\\n\\n\\n\\n</td>\n",
       "      <td>1172</td>\n",
       "      <td>9/2019</td>\n",
       "    </tr>\n",
       "    <tr>\n",
       "      <th>1</th>\n",
       "      <td>\\n\\n\\n03\\n\\n\\n\\nO\\n\\n\\n\\nP\\n\\n\\n\\n</td>\n",
       "      <td>1172</td>\n",
       "      <td>9/2019</td>\n",
       "    </tr>\n",
       "    <tr>\n",
       "      <th>2</th>\n",
       "      <td>\\n\\n\\n03\\n\\n\\n\\nE\\n\\n\\n\\nP\\n\\n\\n\\n</td>\n",
       "      <td>1172</td>\n",
       "      <td>9/2019</td>\n",
       "    </tr>\n",
       "    <tr>\n",
       "      <th>3</th>\n",
       "      <td>\\n\\n\\n04\\n\\n\\n\\nO\\n\\n\\n\\nP\\n\\n\\n\\n</td>\n",
       "      <td>1172</td>\n",
       "      <td>9/2019</td>\n",
       "    </tr>\n",
       "    <tr>\n",
       "      <th>4</th>\n",
       "      <td>\\n\\n\\n04\\n\\n\\n\\nE\\n\\n\\n\\nP\\n\\n\\n\\n</td>\n",
       "      <td>1172</td>\n",
       "      <td>9/2019</td>\n",
       "    </tr>\n",
       "  </tbody>\n",
       "</table>\n",
       "</div>"
      ],
      "text/plain": [
       "                           presenca_raw nome_id mes_ano\n",
       "0  \\n\\n\\n02\\n\\n\\n\\nO\\n\\n\\n\\nCQR\\n\\n\\n\\n    1172  9/2019\n",
       "1    \\n\\n\\n03\\n\\n\\n\\nO\\n\\n\\n\\nP\\n\\n\\n\\n    1172  9/2019\n",
       "2    \\n\\n\\n03\\n\\n\\n\\nE\\n\\n\\n\\nP\\n\\n\\n\\n    1172  9/2019\n",
       "3    \\n\\n\\n04\\n\\n\\n\\nO\\n\\n\\n\\nP\\n\\n\\n\\n    1172  9/2019\n",
       "4    \\n\\n\\n04\\n\\n\\n\\nE\\n\\n\\n\\nP\\n\\n\\n\\n    1172  9/2019"
      ]
     },
     "execution_count": 56,
     "metadata": {},
     "output_type": "execute_result"
    }
   ],
   "source": [
    "dfops = get_data('1172', '9/2019')\n",
    "dfops.head()"
   ]
  },
  {
   "cell_type": "markdown",
   "metadata": {},
   "source": [
    "# Run for all of them"
   ]
  },
  {
   "cell_type": "code",
   "execution_count": null,
   "metadata": {},
   "outputs": [],
   "source": [
    "df_final = pd.DataFrame()"
   ]
  },
  {
   "cell_type": "code",
   "execution_count": null,
   "metadata": {},
   "outputs": [],
   "source": [
    "for k,v in id_name_final.items():\n",
    "    for d in date_list:\n",
    "        df = get_data(k, d)\n",
    "        df['nome'] = v\n",
    "        df_final = df_final.append(df)"
   ]
  },
  {
   "cell_type": "code",
   "execution_count": null,
   "metadata": {},
   "outputs": [],
   "source": []
  },
  {
   "cell_type": "code",
   "execution_count": null,
   "metadata": {},
   "outputs": [],
   "source": []
  },
  {
   "cell_type": "code",
   "execution_count": null,
   "metadata": {},
   "outputs": [],
   "source": []
  }
 ],
 "metadata": {
  "kernelspec": {
   "display_name": "Python 3",
   "language": "python",
   "name": "python3"
  },
  "language_info": {
   "codemirror_mode": {
    "name": "ipython",
    "version": 3
   },
   "file_extension": ".py",
   "mimetype": "text/x-python",
   "name": "python",
   "nbconvert_exporter": "python",
   "pygments_lexer": "ipython3",
   "version": "3.7.4"
  }
 },
 "nbformat": 4,
 "nbformat_minor": 2
}
